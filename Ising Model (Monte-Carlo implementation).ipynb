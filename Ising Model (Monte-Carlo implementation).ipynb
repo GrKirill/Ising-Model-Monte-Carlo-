{
 "cells": [
  {
   "cell_type": "code",
   "execution_count": 22,
   "metadata": {
    "collapsed": true
   },
   "outputs": [],
   "source": [
    "%matplotlib inline\n",
    "import numpy as np\n",
    "from numpy.random import rand\n",
    "import matplotlib.pyplot as plt"
   ]
  },
  {
   "cell_type": "markdown",
   "metadata": {},
   "source": [
    "### Some theory"
   ]
  },
  {
   "attachments": {},
   "cell_type": "markdown",
   "metadata": {},
   "source": [
    "The Ising Hamiltonian: $$\\mathcal{H} = -J \\sum_{\\langle i j \\rangle} S_{i} S_{j}.$$\n",
    "\n",
    "Theory behind this:\n",
    "1. $J$ > 0 (describes the strengh of exchange interaction)\n",
    "2. Each spin direction may be either \"up\" (+1)or \"down\" (-1)\n",
    "3. $dE$ calculates using nearest-neighbor interaction only\n",
    "\n",
    "In a matrix implementation the neighbours of the vertice $(i,j)$ are $(i − 1, j), (i, j − 1), (i + 1, j), (i, j + 1)$\n",
    "\n",
    "\n",
    "<img src=\"Image004.png\" alt=\"Drawing\" style=\"width: 200px;\"/>"
   ]
  },
  {
   "cell_type": "markdown",
   "metadata": {},
   "source": [
    "### Main steps in Monte-Carlo implementation"
   ]
  },
  {
   "cell_type": "markdown",
   "metadata": {},
   "source": [
    "1. Create an initial configuration of N spins. (2D matrix)\n",
    "2. Flip the spin randomly in a chosen place.\n",
    "3. Calculate the change in energy $dE$(by neighbours).\n",
    "4. If $dE$ < 0, accept the move. Otherwise accept the move with probability $exp^{-dE/T}$. This satisfies the detailed balance condition, ensuring a final equilibrium state.\n",
    "5. Repeat steps from 2 to 4\n"
   ]
  },
  {
   "cell_type": "code",
   "execution_count": 44,
   "metadata": {
    "collapsed": true
   },
   "outputs": [],
   "source": [
    "def initialstate(N):\n",
    "    state = 2*np.random.randint(2, size=(N,N))-1\n",
    "    return state\n",
    "\n",
    "def flipping(configuration, beta):  \n",
    "    for i in range(N):\n",
    "        for j in range(N):\n",
    "                n = np.random.randint(0, N)\n",
    "                m = np.random.randint(0, N)\n",
    "                spin =  configuration[n, m] #choose random point in a matrix\n",
    "                nb = configuration[(n+1)%N,m] + configuration[n,(m+1)%N] + configuration[(n-1)%N,m] + configuration[n,(m-1)%N]\n",
    "                de = 2*spin*nb\n",
    "                if de < 0:\n",
    "                    spin *= -1\n",
    "                elif rand() < np.exp(-de*beta):\n",
    "                    spin *= -1\n",
    "                configuration[n, m] = spin\n",
    "    return configuration\n",
    "\n",
    "\n",
    "def Energy(configuration):\n",
    "    energy = 0\n",
    "    for i in range(len(configuration)):\n",
    "        for j in range(len(configuration)):\n",
    "            S = configuration[i,j]\n",
    "            nb = configuration[(i+1)%N, j] + configuration[i,(j+1)%N] + configuration[(i-1)%N, j] + configuration[i,(j-1)%N]\n",
    "            energy += -nb*S\n",
    "    return energy/4.\n",
    "\n",
    "\n",
    "def Magn(configuration):\n",
    "    magnitization = np.sum(configuration)\n",
    "    return magnitization"
   ]
  },
  {
   "cell_type": "markdown",
   "metadata": {},
   "source": [
    "Flipping spins we have a loop with $N^{2}$ iterations --> the complexity of our implementation is $O(N^{2})$"
   ]
  },
  {
   "cell_type": "markdown",
   "metadata": {},
   "source": [
    "The system undergoes a 2nd order phase transition at the critical temperature Tc . For temperatures less than Tc , the system magnetizes, and the state is called the ferromagnetic or the ordered state. This amounts to a globally ordered state due to the presence of local interactions between the spin. For temperatures greater than Tc , the system is in the disordered or the paramagnetic state.\n",
    "The two-dimensional model with no external field was analytically solved by Lars Onsager(1944),\n",
    "showing that the model undergoes a phase transition at the critical temperature given by $T_{c} = \\frac{2J}{kln(\\sqrt2 + 1)}$. To make temperature dimensionless we chose J=1 and set Boltzmann’s constant to k=1. So according to analitical solution $T_{c} = 2.27$"
   ]
  },
  {
   "cell_type": "code",
   "execution_count": 45,
   "metadata": {
    "collapsed": true
   },
   "outputs": [],
   "source": [
    "temperature = 20  #  number of temperature points\n",
    "eqSteps = 500  #  number of steps for equilibration\n",
    "mcSteps = 1000 #  number of steps for calculation\n",
    "\n",
    "T  = np.linspace(1, 3, temperature); #temperature range\n",
    "E,M = np.zeros(temperature), np.zeros(temperature) "
   ]
  },
  {
   "cell_type": "code",
   "execution_count": 46,
   "metadata": {},
   "outputs": [
    {
     "name": "stdout",
     "output_type": "stream",
     "text": [
      "CPU times: user 3 µs, sys: 1 µs, total: 4 µs\n",
      "Wall time: 6.91 µs\n"
     ]
    }
   ],
   "source": [
    "%time\n",
    "import time\n",
    "list_of_conficurations = []\n",
    "Ens = [i for i in range(1,20)]\n",
    "for N in Ens:\n",
    "    n1  = 1.0/(mcSteps*N*N)\n",
    "    start_time = time.time()\n",
    "    for tt in range(temperature):\n",
    "        E1 = M1 = 0\n",
    "        config = initialstate(N)\n",
    "        #beta = 1/T\n",
    "        iT=1.0/T[tt]\n",
    "    \n",
    "        for i in range(eqSteps):         # equilibration\n",
    "            flipping(config, iT)           \n",
    "\n",
    "        for i in range(mcSteps):\n",
    "            flipping(config, iT)           \n",
    "            Ene = Energy(config)     # calculate the energy\n",
    "            Mag = Magn(config)        # calculate the magnetisation\n",
    "\n",
    "            E1 = E1 + Ene\n",
    "            M1 = M1 + Mag\n",
    "\n",
    "        E[tt] = n1*E1\n",
    "        M[tt] = n1*M1\n",
    "        \n",
    "    execution_time = time.time() - start_time\n",
    "    list_of_conficurations.append(execution_time)  "
   ]
  },
  {
   "cell_type": "markdown",
   "metadata": {},
   "source": [
    "### Check the complexity numerically"
   ]
  },
  {
   "cell_type": "code",
   "execution_count": 47,
   "metadata": {},
   "outputs": [
    {
     "data": {
      "image/png": "[encoded data removed]",
      "text/plain": [
       "<matplotlib.figure.Figure at 0x1190da128>"
      ]
     },
     "metadata": {},
     "output_type": "display_data"
    }
   ],
   "source": [
    "t = plt.figure(figsize=(5, 5)); \n",
    "plt.plot(Ens, list_of_conficurations)\n",
    "plt.xlabel(\"Matrix size\", fontsize=20);\n",
    "plt.ylabel(\"The working time\", fontsize=20); plt.axis('tight');"
   ]
  },
  {
   "cell_type": "markdown",
   "metadata": {},
   "source": [
    "The complexity of the whole algorithm is $O(N^{2})$"
   ]
  },
  {
   "cell_type": "code",
   "execution_count": 48,
   "metadata": {},
   "outputs": [
    {
     "data": {
      "image/png": "[encoded data removed]",
      "text/plain": [
       "<matplotlib.figure.Figure at 0x1197734a8>"
      ]
     },
     "metadata": {},
     "output_type": "display_data"
    }
   ],
   "source": [
    "f = plt.figure(figsize=(18, 10)); # plot the calculated values    \n",
    "\n",
    "sp =  f.add_subplot(2, 2, 1 );\n",
    "plt.scatter(T, E, s=30, marker='o', color='Red')\n",
    "plt.plot()\n",
    "plt.xlabel(\"T\", fontsize=20);\n",
    "plt.ylabel(\"Energy\", fontsize=20); plt.axis('tight');\n",
    "\n",
    "sp =  f.add_subplot(2, 2, 2 );\n",
    "plt.scatter(T, abs(M), s=30, marker='o', color='Blue')\n",
    "plt.xlabel(\"T\", fontsize=20); \n",
    "plt.ylabel(\"Magnetization\", fontsize=20); plt.axis('tight');\n"
   ]
  },
  {
   "cell_type": "markdown",
   "metadata": {},
   "source": [
    "Accorning to theoretical solution $T_{c} = 2.27$. Monte-Carlo simulation confirms this"
   ]
  },
  {
   "cell_type": "markdown",
   "metadata": {
    "collapsed": true
   },
   "source": [
    "### References\n",
    "1. Определение температуры фазового перехода в модели Изинга с дальним взаимодействием методом Монте-Карло. А.А. Бирюков, Я.В. Дегтярева.\n",
    "2. Monte Carlo investigation of the Ising model. Tobin Fricke."
   ]
  }
 ],
 "metadata": {
  "kernelspec": {
   "display_name": "Python [conda env:anaconda3]",
   "language": "python",
   "name": "conda-env-anaconda3-py"
  },
  "language_info": {
   "codemirror_mode": {
    "name": "ipython",
    "version": 3
   },
   "file_extension": ".py",
   "mimetype": "text/x-python",
   "name": "python",
   "nbconvert_exporter": "python",
   "pygments_lexer": "ipython3",
   "version": "3.5.2"
  }
 },
 "nbformat": 4,
 "nbformat_minor": 2
}
